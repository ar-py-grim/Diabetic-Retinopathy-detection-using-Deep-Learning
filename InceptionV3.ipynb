{
 "cells": [
  {
   "cell_type": "code",
   "execution_count": null,
   "id": "8311c0f4",
   "metadata": {},
   "outputs": [],
   "source": [
    "import pandas as pd\n",
    "import numpy as np\n",
    "import math\n",
    "import json\n",
    "import tensorflow as tf\n",
    "import tensorflow.keras.layers as tfl\n",
    "from tensorflow.keras.preprocessing.image import ImageDataGenerator\n",
    "from tensorflow.keras.callbacks import ModelCheckpoint\n",
    "import matplotlib.pyplot as plt\n",
    "# import seaborn as sns\n",
    "from sklearn.metrics import confusion_matrix, classification_report, accuracy_score\n",
    "from sklearn.model_selection import train_test_split\n",
    "from tensorflow.keras.applications.inception_v3 import InceptionV3\n",
    "from PIL import Image\n",
    "from tqdm import tqdm"
   ]
  },
  {
   "cell_type": "code",
   "execution_count": 4,
   "id": "2de1f8bb",
   "metadata": {},
   "outputs": [],
   "source": [
    "np.random.seed(2019)\n",
    "tf.random.set_seed(2019)"
   ]
  },
  {
   "cell_type": "code",
   "execution_count": 6,
   "id": "981bac06",
   "metadata": {},
   "outputs": [
    {
     "name": "stdout",
     "output_type": "stream",
     "text": [
      "(6594, 2)\n"
     ]
    },
    {
     "data": {
      "text/html": [
       "<div>\n",
       "<style scoped>\n",
       "    .dataframe tbody tr th:only-of-type {\n",
       "        vertical-align: middle;\n",
       "    }\n",
       "\n",
       "    .dataframe tbody tr th {\n",
       "        vertical-align: top;\n",
       "    }\n",
       "\n",
       "    .dataframe thead th {\n",
       "        text-align: right;\n",
       "    }\n",
       "</style>\n",
       "<table border=\"1\" class=\"dataframe\">\n",
       "  <thead>\n",
       "    <tr style=\"text-align: right;\">\n",
       "      <th></th>\n",
       "      <th>id_code</th>\n",
       "      <th>diagnosis</th>\n",
       "    </tr>\n",
       "  </thead>\n",
       "  <tbody>\n",
       "    <tr>\n",
       "      <th>0</th>\n",
       "      <td>0__0_8989.jpg</td>\n",
       "      <td>0</td>\n",
       "    </tr>\n",
       "    <tr>\n",
       "      <th>1</th>\n",
       "      <td>0__0_2738.jpg</td>\n",
       "      <td>0</td>\n",
       "    </tr>\n",
       "    <tr>\n",
       "      <th>2</th>\n",
       "      <td>0__0_7643.jpg</td>\n",
       "      <td>0</td>\n",
       "    </tr>\n",
       "    <tr>\n",
       "      <th>3</th>\n",
       "      <td>0__0_7122.jpg</td>\n",
       "      <td>0</td>\n",
       "    </tr>\n",
       "    <tr>\n",
       "      <th>4</th>\n",
       "      <td>0__0_1522.jpg</td>\n",
       "      <td>0</td>\n",
       "    </tr>\n",
       "  </tbody>\n",
       "</table>\n",
       "</div>"
      ],
      "text/plain": [
       "         id_code  diagnosis\n",
       "0  0__0_8989.jpg          0\n",
       "1  0__0_2738.jpg          0\n",
       "2  0__0_7643.jpg          0\n",
       "3  0__0_7122.jpg          0\n",
       "4  0__0_1522.jpg          0"
      ]
     },
     "execution_count": 6,
     "metadata": {},
     "output_type": "execute_result"
    }
   ],
   "source": [
    "train_df = pd.read_csv('/kaggle/working/ddr-equal/aug.csv')\n",
    "print(train_df.shape)\n",
    "train_df.head()"
   ]
  },
  {
   "cell_type": "code",
   "execution_count": 7,
   "id": "22beabfe",
   "metadata": {},
   "outputs": [
    {
     "data": {
      "text/plain": [
       "diagnosis\n",
       "2    1329\n",
       "3    1321\n",
       "1    1318\n",
       "4    1318\n",
       "0    1308\n",
       "Name: count, dtype: int64"
      ]
     },
     "execution_count": 7,
     "metadata": {},
     "output_type": "execute_result"
    },
    {
     "data": {
      "image/png": "[encoded data removed]",
      "text/plain": [
       "<Figure size 640x480 with 1 Axes>"
      ]
     },
     "metadata": {},
     "output_type": "display_data"
    }
   ],
   "source": [
    "train_df['diagnosis'].hist()\n",
    "train_df['diagnosis'].value_counts()"
   ]
  },
  {
   "cell_type": "code",
   "execution_count": 8,
   "id": "b124ff5e",
   "metadata": {},
   "outputs": [],
   "source": [
    "def get_pad_width(im, new_shape, is_rgb=True):\n",
    "    pad_diff = new_shape - im.shape[0], new_shape - im.shape[1]\n",
    "    t, b = math.floor(pad_diff[0]/2), math.ceil(pad_diff[0]/2)\n",
    "    l, r = math.floor(pad_diff[1]/2), math.ceil(pad_diff[1]/2)\n",
    "    if is_rgb:\n",
    "        pad_width = ((t,b), (l,r), (0, 0))\n",
    "    else:\n",
    "        pad_width = ((t,b), (l,r))\n",
    "    return pad_width\n",
    "\n",
    "def preprocess_image(image_path, desired_size=224):\n",
    "    im = Image.open(image_path)\n",
    "    im = im.resize((desired_size, )*2, resample=Image.LANCZOS)\n",
    "    \n",
    "    return im"
   ]
  },
  {
   "cell_type": "code",
   "execution_count": 9,
   "id": "50d71edc",
   "metadata": {},
   "outputs": [
    {
     "name": "stderr",
     "output_type": "stream",
     "text": [
      "100%|██████████| 6594/6594 [02:16<00:00, 48.35it/s]\n"
     ]
    }
   ],
   "source": [
    "N = train_df.shape[0]\n",
    "x_train = np.empty((N, 224, 224, 3), dtype=np.uint8)\n",
    "\n",
    "for i, image_id in enumerate(tqdm(train_df['id_code'])):\n",
    "    x_train[i, :, :, :] = preprocess_image(f'/kaggle/working/ddr-equal/aug_images/{image_id}')"
   ]
  },
  {
   "cell_type": "code",
   "execution_count": 10,
   "id": "c43540a0",
   "metadata": {},
   "outputs": [
    {
     "name": "stdout",
     "output_type": "stream",
     "text": [
      "(6594, 224, 224, 3)\n",
      "One-hot encoded y_train: [1308 1318 1329 1321 1318]\n"
     ]
    }
   ],
   "source": [
    "y_train = pd.get_dummies(train_df['diagnosis']).values\n",
    "print(x_train.shape)\n",
    "print(\"One-hot encoded y_train:\", y_train.sum(axis=0))"
   ]
  },
  {
   "cell_type": "code",
   "execution_count": 11,
   "id": "18b923f2",
   "metadata": {},
   "outputs": [
    {
     "data": {
      "text/plain": [
       "(6594, 224, 224, 3)"
      ]
     },
     "execution_count": 11,
     "metadata": {},
     "output_type": "execute_result"
    }
   ],
   "source": [
    "x_train_full, x_test, y_train_full, y_test = train_test_split(\n",
    "    x_train,  \n",
    "    y_train,\n",
    "    test_size=0.1,\n",
    "    random_state=2019\n",
    ")\n",
    "\n",
    "x_train_partial, x_val, y_train_partial, y_val = train_test_split(\n",
    "    x_train_full, y_train_full, \n",
    "    test_size=0.1, \n",
    "    random_state=2019\n",
    ")\n",
    "\n",
    "x_train.shape"
   ]
  },
  {
   "cell_type": "code",
   "execution_count": 12,
   "id": "c5b5db63",
   "metadata": {},
   "outputs": [
    {
     "data": {
      "text/plain": [
       "(6594, 5)"
      ]
     },
     "execution_count": 12,
     "metadata": {},
     "output_type": "execute_result"
    }
   ],
   "source": [
    "y_train.shape"
   ]
  },
  {
   "cell_type": "code",
   "execution_count": 13,
   "id": "c1a95988",
   "metadata": {},
   "outputs": [],
   "source": [
    "BATCH_SIZE = 32\n",
    "\n",
    "def create_datagen():\n",
    "    return ImageDataGenerator(\n",
    "        zoom_range=0.15, \n",
    "        fill_mode='constant',\n",
    "        cval=0.,  \n",
    "        horizontal_flip=True,  \n",
    "        vertical_flip=True,  \n",
    "    )\n",
    "\n",
    "data_generator = create_datagen().flow(x_train, y_train, batch_size=BATCH_SIZE, seed=2019)"
   ]
  },
  {
   "cell_type": "code",
   "execution_count": 14,
   "id": "780dfaf5",
   "metadata": {},
   "outputs": [],
   "source": [
    "IMAGE_SIZE = (224, 224)\n",
    "BATCH_SIZE = 32\n",
    "\n",
    "df = pd.read_csv(r'D:/kaggle/working/ddr-equal/aug.csv') "
   ]
  },
  {
   "cell_type": "code",
   "execution_count": 15,
   "id": "4e2552b0",
   "metadata": {},
   "outputs": [
    {
     "data": {
      "text/html": [
       "<div>\n",
       "<style scoped>\n",
       "    .dataframe tbody tr th:only-of-type {\n",
       "        vertical-align: middle;\n",
       "    }\n",
       "\n",
       "    .dataframe tbody tr th {\n",
       "        vertical-align: top;\n",
       "    }\n",
       "\n",
       "    .dataframe thead th {\n",
       "        text-align: right;\n",
       "    }\n",
       "</style>\n",
       "<table border=\"1\" class=\"dataframe\">\n",
       "  <thead>\n",
       "    <tr style=\"text-align: right;\">\n",
       "      <th></th>\n",
       "      <th>id_code</th>\n",
       "      <th>diagnosis</th>\n",
       "    </tr>\n",
       "  </thead>\n",
       "  <tbody>\n",
       "    <tr>\n",
       "      <th>0</th>\n",
       "      <td>0__0_8989.jpg</td>\n",
       "      <td>0</td>\n",
       "    </tr>\n",
       "    <tr>\n",
       "      <th>1</th>\n",
       "      <td>0__0_2738.jpg</td>\n",
       "      <td>0</td>\n",
       "    </tr>\n",
       "    <tr>\n",
       "      <th>2</th>\n",
       "      <td>0__0_7643.jpg</td>\n",
       "      <td>0</td>\n",
       "    </tr>\n",
       "    <tr>\n",
       "      <th>3</th>\n",
       "      <td>0__0_7122.jpg</td>\n",
       "      <td>0</td>\n",
       "    </tr>\n",
       "    <tr>\n",
       "      <th>4</th>\n",
       "      <td>0__0_1522.jpg</td>\n",
       "      <td>0</td>\n",
       "    </tr>\n",
       "  </tbody>\n",
       "</table>\n",
       "</div>"
      ],
      "text/plain": [
       "         id_code  diagnosis\n",
       "0  0__0_8989.jpg          0\n",
       "1  0__0_2738.jpg          0\n",
       "2  0__0_7643.jpg          0\n",
       "3  0__0_7122.jpg          0\n",
       "4  0__0_1522.jpg          0"
      ]
     },
     "execution_count": 15,
     "metadata": {},
     "output_type": "execute_result"
    }
   ],
   "source": [
    "df.head()"
   ]
  },
  {
   "cell_type": "code",
   "execution_count": 16,
   "id": "4a65404f",
   "metadata": {
    "scrolled": true
   },
   "outputs": [
    {
     "data": {
      "text/plain": [
       "diagnosis\n",
       "2    1329\n",
       "3    1321\n",
       "1    1318\n",
       "4    1318\n",
       "0    1308\n",
       "Name: count, dtype: int64"
      ]
     },
     "execution_count": 16,
     "metadata": {},
     "output_type": "execute_result"
    }
   ],
   "source": [
    "def rename_to_path(image_name):\n",
    "    return f'D:/kaggle/working/ddr-equal/aug_images/{image_name}'\n",
    "\n",
    "df['id_code'] = df['id_code'].apply(rename_to_path)\n",
    "df['diagnosis'].value_counts()"
   ]
  },
  {
   "cell_type": "code",
   "execution_count": 17,
   "id": "389b6f60",
   "metadata": {},
   "outputs": [],
   "source": [
    "input_tensor = tfl.Input(shape=(224, 224, 3))\n",
    "base_model = InceptionV3(input_tensor=input_tensor, weights='imagenet', include_top=False)\n",
    "x=base_model.output\n",
    "x = tfl.GlobalAveragePooling2D()(x)\n",
    "x = tfl.Dropout(0.5)(x) \n",
    "x = tfl.Dense(5, activation = 'softmax')(x)"
   ]
  },
  {
   "cell_type": "code",
   "execution_count": 19,
   "id": "8de6732e",
   "metadata": {},
   "outputs": [],
   "source": [
    "model = tf.keras.Model(inputs = input_tensor, outputs = x)"
   ]
  },
  {
   "cell_type": "code",
   "execution_count": 20,
   "id": "cde1381a",
   "metadata": {},
   "outputs": [],
   "source": [
    "checkpoint = ModelCheckpoint(\n",
    "    filepath='D:\\Final Year Project\\inception_model.keras',\n",
    "    monitor='val_accuracy',  \n",
    "    save_best_only=True,      \n",
    "    mode='max',             \n",
    "    verbose=1,               \n",
    ")\n",
    "\n",
    "model.compile(\n",
    "            # optimizer = tf.keras.optimizers.Adam(learning_rate=1e-4), \n",
    "            optimizer=tf.keras.optimizers.Adam(learning_rate=0.00005),\n",
    "            loss = tf.keras.losses.CategoricalCrossentropy(), metrics = ['accuracy'])"
   ]
  },
  {
   "cell_type": "code",
   "execution_count": 21,
   "id": "639f8888",
   "metadata": {
    "scrolled": false
   },
   "outputs": [
    {
     "name": "stderr",
     "output_type": "stream",
     "text": [
      "z:\\ml\\ml\\lib\\site-packages\\keras\\src\\trainers\\data_adapters\\py_dataset_adapter.py:121: UserWarning: Your `PyDataset` class should call `super().__init__(**kwargs)` in its constructor. `**kwargs` can include `workers`, `use_multiprocessing`, `max_queue_size`. Do not pass these arguments to `fit()`, as they will be ignored.\n",
      "  self._warn_if_super_not_called()\n"
     ]
    },
    {
     "name": "stdout",
     "output_type": "stream",
     "text": [
      "Epoch 1/10\n",
      "\u001b[1m207/207\u001b[0m \u001b[32m━━━━━━━━━━━━━━━━━━━━\u001b[0m\u001b[37m\u001b[0m \u001b[1m0s\u001b[0m 3s/step - accuracy: 0.4464 - loss: 1.3146\n",
      "Epoch 1: val_accuracy improved from -inf to 0.73064, saving model to D:\\Final Year Project\\inception_model.keras\n",
      "\u001b[1m207/207\u001b[0m \u001b[32m━━━━━━━━━━━━━━━━━━━━\u001b[0m\u001b[37m\u001b[0m \u001b[1m610s\u001b[0m 3s/step - accuracy: 0.4471 - loss: 1.3132 - val_accuracy: 0.7306 - val_loss: 0.6612\n",
      "Epoch 2/10\n",
      "\u001b[1m207/207\u001b[0m \u001b[32m━━━━━━━━━━━━━━━━━━━━\u001b[0m\u001b[37m\u001b[0m \u001b[1m0s\u001b[0m 3s/step - accuracy: 0.7879 - loss: 0.5865\n",
      "Epoch 2: val_accuracy improved from 0.73064 to 0.87879, saving model to D:\\Final Year Project\\inception_model.keras\n",
      "\u001b[1m207/207\u001b[0m \u001b[32m━━━━━━━━━━━━━━━━━━━━\u001b[0m\u001b[37m\u001b[0m \u001b[1m560s\u001b[0m 3s/step - accuracy: 0.7881 - loss: 0.5862 - val_accuracy: 0.8788 - val_loss: 0.3043\n",
      "Epoch 3/10\n",
      "\u001b[1m207/207\u001b[0m \u001b[32m━━━━━━━━━━━━━━━━━━━━\u001b[0m\u001b[37m\u001b[0m \u001b[1m0s\u001b[0m 3s/step - accuracy: 0.8967 - loss: 0.2873\n",
      "Epoch 3: val_accuracy improved from 0.87879 to 0.95118, saving model to D:\\Final Year Project\\inception_model.keras\n",
      "\u001b[1m207/207\u001b[0m \u001b[32m━━━━━━━━━━━━━━━━━━━━\u001b[0m\u001b[37m\u001b[0m \u001b[1m557s\u001b[0m 3s/step - accuracy: 0.8967 - loss: 0.2872 - val_accuracy: 0.9512 - val_loss: 0.1437\n",
      "Epoch 4/10\n",
      "\u001b[1m207/207\u001b[0m \u001b[32m━━━━━━━━━━━━━━━━━━━━\u001b[0m\u001b[37m\u001b[0m \u001b[1m0s\u001b[0m 3s/step - accuracy: 0.9332 - loss: 0.2009\n",
      "Epoch 4: val_accuracy improved from 0.95118 to 0.95791, saving model to D:\\Final Year Project\\inception_model.keras\n",
      "\u001b[1m207/207\u001b[0m \u001b[32m━━━━━━━━━━━━━━━━━━━━\u001b[0m\u001b[37m\u001b[0m \u001b[1m561s\u001b[0m 3s/step - accuracy: 0.9332 - loss: 0.2008 - val_accuracy: 0.9579 - val_loss: 0.1374\n",
      "Epoch 5/10\n",
      "\u001b[1m207/207\u001b[0m \u001b[32m━━━━━━━━━━━━━━━━━━━━\u001b[0m\u001b[37m\u001b[0m \u001b[1m0s\u001b[0m 3s/step - accuracy: 0.9647 - loss: 0.1072\n",
      "Epoch 5: val_accuracy improved from 0.95791 to 0.97980, saving model to D:\\Final Year Project\\inception_model.keras\n",
      "\u001b[1m207/207\u001b[0m \u001b[32m━━━━━━━━━━━━━━━━━━━━\u001b[0m\u001b[37m\u001b[0m \u001b[1m560s\u001b[0m 3s/step - accuracy: 0.9647 - loss: 0.1072 - val_accuracy: 0.9798 - val_loss: 0.0699\n",
      "Epoch 6/10\n",
      "\u001b[1m207/207\u001b[0m \u001b[32m━━━━━━━━━━━━━━━━━━━━\u001b[0m\u001b[37m\u001b[0m \u001b[1m0s\u001b[0m 3s/step - accuracy: 0.9742 - loss: 0.0794\n",
      "Epoch 6: val_accuracy improved from 0.97980 to 0.98485, saving model to D:\\Final Year Project\\inception_model.keras\n",
      "\u001b[1m207/207\u001b[0m \u001b[32m━━━━━━━━━━━━━━━━━━━━\u001b[0m\u001b[37m\u001b[0m \u001b[1m561s\u001b[0m 3s/step - accuracy: 0.9742 - loss: 0.0794 - val_accuracy: 0.9848 - val_loss: 0.0427\n",
      "Epoch 7/10\n",
      "\u001b[1m207/207\u001b[0m \u001b[32m━━━━━━━━━━━━━━━━━━━━\u001b[0m\u001b[37m\u001b[0m \u001b[1m0s\u001b[0m 3s/step - accuracy: 0.9762 - loss: 0.0720\n",
      "Epoch 7: val_accuracy did not improve from 0.98485\n",
      "\u001b[1m207/207\u001b[0m \u001b[32m━━━━━━━━━━━━━━━━━━━━\u001b[0m\u001b[37m\u001b[0m \u001b[1m538s\u001b[0m 3s/step - accuracy: 0.9762 - loss: 0.0721 - val_accuracy: 0.9478 - val_loss: 0.1649\n",
      "Epoch 8/10\n",
      "\u001b[1m207/207\u001b[0m \u001b[32m━━━━━━━━━━━━━━━━━━━━\u001b[0m\u001b[37m\u001b[0m \u001b[1m0s\u001b[0m 3s/step - accuracy: 0.9778 - loss: 0.0663\n",
      "Epoch 8: val_accuracy improved from 0.98485 to 0.99832, saving model to D:\\Final Year Project\\inception_model.keras\n",
      "\u001b[1m207/207\u001b[0m \u001b[32m━━━━━━━━━━━━━━━━━━━━\u001b[0m\u001b[37m\u001b[0m \u001b[1m564s\u001b[0m 3s/step - accuracy: 0.9778 - loss: 0.0662 - val_accuracy: 0.9983 - val_loss: 0.0134\n",
      "Epoch 9/10\n",
      "\u001b[1m207/207\u001b[0m \u001b[32m━━━━━━━━━━━━━━━━━━━━\u001b[0m\u001b[37m\u001b[0m \u001b[1m0s\u001b[0m 3s/step - accuracy: 0.9837 - loss: 0.0464\n",
      "Epoch 9: val_accuracy did not improve from 0.99832\n",
      "\u001b[1m207/207\u001b[0m \u001b[32m━━━━━━━━━━━━━━━━━━━━\u001b[0m\u001b[37m\u001b[0m \u001b[1m538s\u001b[0m 3s/step - accuracy: 0.9837 - loss: 0.0464 - val_accuracy: 0.9899 - val_loss: 0.0189\n",
      "Epoch 10/10\n",
      "\u001b[1m207/207\u001b[0m \u001b[32m━━━━━━━━━━━━━━━━━━━━\u001b[0m\u001b[37m\u001b[0m \u001b[1m0s\u001b[0m 3s/step - accuracy: 0.9804 - loss: 0.0530\n",
      "Epoch 10: val_accuracy did not improve from 0.99832\n",
      "\u001b[1m207/207\u001b[0m \u001b[32m━━━━━━━━━━━━━━━━━━━━\u001b[0m\u001b[37m\u001b[0m \u001b[1m540s\u001b[0m 3s/step - accuracy: 0.9804 - loss: 0.0530 - val_accuracy: 0.9949 - val_loss: 0.0243\n"
     ]
    }
   ],
   "source": [
    "history = model.fit(data_generator, validation_data=(x_val,y_val), epochs=10, callbacks=[checkpoint])"
   ]
  },
  {
   "cell_type": "code",
   "execution_count": 22,
   "id": "838bb365",
   "metadata": {},
   "outputs": [
    {
     "name": "stdout",
     "output_type": "stream",
     "text": [
      "\u001b[1m21/21\u001b[0m \u001b[32m━━━━━━━━━━━━━━━━━━━━\u001b[0m\u001b[37m\u001b[0m \u001b[1m14s\u001b[0m 589ms/step\n"
     ]
    }
   ],
   "source": [
    "y_pred = np.argmax(model.predict(x_test), axis=1)"
   ]
  },
  {
   "cell_type": "code",
   "execution_count": 23,
   "id": "b5518048",
   "metadata": {},
   "outputs": [],
   "source": [
    "y_true = np.argmax(y_test, axis=1)  "
   ]
  },
  {
   "cell_type": "code",
   "execution_count": 24,
   "id": "259f3d37",
   "metadata": {},
   "outputs": [
    {
     "name": "stdout",
     "output_type": "stream",
     "text": [
      "(660,)\n",
      "(660,)\n"
     ]
    }
   ],
   "source": [
    "print(y_pred.shape)\n",
    "print(y_true.shape)"
   ]
  },
  {
   "cell_type": "code",
   "execution_count": 25,
   "id": "9a4ec48d",
   "metadata": {},
   "outputs": [
    {
     "name": "stdout",
     "output_type": "stream",
     "text": [
      "Training history saved to 'history.json'.\n",
      "Loaded history: {'accuracy': [0.5805277228355408, 0.8121019005775452, 0.9052168726921082, 0.9366090297698975, 0.963148295879364, 0.9714892506599426, 0.9767971038818359, 0.9798301458358765, 0.9840764403343201, 0.9816499948501587], 'loss': [1.0285999774932861, 0.5218976140022278, 0.2612502872943878, 0.18405726552009583, 0.11060301214456558, 0.08599616587162018, 0.07305070757865906, 0.05856125056743622, 0.04876239597797394, 0.053228698670864105], 'val_accuracy': [0.7306397557258606, 0.8787878751754761, 0.9511784315109253, 0.9579124450683594, 0.9797979593276978, 0.9848484992980957, 0.9478114247322083, 0.9983165264129639, 0.9898989796638489, 0.9949495196342468], 'val_loss': [0.6611650586128235, 0.30427077412605286, 0.14370524883270264, 0.13742956519126892, 0.0698775127530098, 0.042724501341581345, 0.16486385464668274, 0.013424050062894821, 0.018932556733489037, 0.024323688820004463]}\n"
     ]
    },
    {
     "data": {
      "image/png": "[encoded data removed]",
      "text/plain": [
       "<Figure size 640x480 with 1 Axes>"
      ]
     },
     "metadata": {},
     "output_type": "display_data"
    }
   ],
   "source": [
    "with open('history.json', 'w') as f:\n",
    "    json.dump(history.history, f)\n",
    "print(\"Training history saved to 'history.json'.\")\n",
    "\n",
    "\n",
    "with open('history.json', 'r') as f:\n",
    "    loaded_history = json.load(f)\n",
    "print(\"Loaded history:\", loaded_history)\n",
    "\n",
    "\n",
    "history_df = pd.DataFrame(history.history)\n",
    "\n",
    "history_df[['loss', 'val_loss']].plot(title=\"Loss Over Epochs\")\n",
    "plt.xlabel(\"Epochs\")\n",
    "plt.ylabel(\"Loss\")\n",
    "plt.show()"
   ]
  },
  {
   "cell_type": "code",
   "execution_count": null,
   "id": "54551ee8",
   "metadata": {},
   "outputs": [
    {
     "data": {
      "image/png": "[encoded data removed]",
      "text/plain": [
       "<Figure size 640x480 with 1 Axes>"
      ]
     },
     "metadata": {},
     "output_type": "display_data"
    }
   ],
   "source": [
    "history_df[['accuracy', 'val_accuracy']].plot(title=\"Accuracy Over Epochs\")\n",
    "plt.xlabel(\"Epochs\")\n",
    "plt.ylabel(\"Accuracy\")\n",
    "plt.show()"
   ]
  },
  {
   "cell_type": "code",
   "execution_count": 27,
   "id": "c8297f34",
   "metadata": {},
   "outputs": [
    {
     "name": "stdout",
     "output_type": "stream",
     "text": [
      "Confusion matrix:\n",
      "[[120   0   0   0   0]\n",
      " [  1 132   0   0   0]\n",
      " [  0   0 143   0   0]\n",
      " [  1   1   2 114   3]\n",
      " [  0   0   0   0 143]]\n"
     ]
    }
   ],
   "source": [
    "conf_matrix = confusion_matrix(y_true, y_pred) \n",
    "print('Confusion matrix:')\n",
    "print(conf_matrix)"
   ]
  },
  {
   "cell_type": "code",
   "execution_count": 28,
   "id": "8c971226",
   "metadata": {},
   "outputs": [],
   "source": [
    "from mlxtend.plotting import plot_confusion_matrix"
   ]
  },
  {
   "cell_type": "code",
   "execution_count": 29,
   "id": "970ab46d",
   "metadata": {},
   "outputs": [
    {
     "data": {
      "image/png": "[encoded data removed]",
      "text/plain": [
       "<Figure size 600x600 with 1 Axes>"
      ]
     },
     "metadata": {},
     "output_type": "display_data"
    }
   ],
   "source": [
    "fig, ax = plot_confusion_matrix(conf_mat=conf_matrix, figsize=(6, 6), cmap=plt.cm.Greens)\n",
    "plt.xlabel('Predictions', fontsize=18)\n",
    "plt.ylabel('Actuals', fontsize=18)\n",
    "plt.title('Confusion Matrix', fontsize=18)\n",
    "plt.show()"
   ]
  },
  {
   "cell_type": "code",
   "execution_count": 30,
   "id": "f8c445a7",
   "metadata": {},
   "outputs": [
    {
     "name": "stdout",
     "output_type": "stream",
     "text": [
      "Classification Report:\n",
      "              precision    recall  f1-score   support\n",
      "\n",
      "           0       0.98      1.00      0.99       120\n",
      "           1       0.99      0.99      0.99       133\n",
      "           2       0.99      1.00      0.99       143\n",
      "           3       1.00      0.94      0.97       121\n",
      "           4       0.98      1.00      0.99       143\n",
      "\n",
      "    accuracy                           0.99       660\n",
      "   macro avg       0.99      0.99      0.99       660\n",
      "weighted avg       0.99      0.99      0.99       660\n",
      "\n"
     ]
    }
   ],
   "source": [
    "class_names = [str(i) for i in range(5)]\n",
    "report = classification_report(y_true, y_pred, target_names=class_names)\n",
    "print(\"Classification Report:\")\n",
    "print(report)"
   ]
  }
 ],
 "metadata": {
  "kernelspec": {
   "display_name": "ml",
   "language": "python",
   "name": "python3"
  },
  "language_info": {
   "codemirror_mode": {
    "name": "ipython",
    "version": 3
   },
   "file_extension": ".py",
   "mimetype": "text/x-python",
   "name": "python",
   "nbconvert_exporter": "python",
   "pygments_lexer": "ipython3",
   "version": "3.10.6"
  }
 },
 "nbformat": 4,
 "nbformat_minor": 5
}
